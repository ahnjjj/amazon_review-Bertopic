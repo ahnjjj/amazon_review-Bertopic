{
 "cells": [
  {
   "cell_type": "code",
   "execution_count": 2,
   "metadata": {},
   "outputs": [
    {
     "name": "stderr",
     "output_type": "stream",
     "text": [
      "c:\\Users\\tea_s\\.conda\\envs\\BERT\\lib\\site-packages\\tqdm\\auto.py:22: TqdmWarning: IProgress not found. Please update jupyter and ipywidgets. See https://ipywidgets.readthedocs.io/en/stable/user_install.html\n",
      "  from .autonotebook import tqdm as notebook_tqdm\n"
     ]
    }
   ],
   "source": [
    "import pandas as pd\n",
    "import re\n",
    "import nltk\n",
    "# nltk.download(\"stopwords\")\n",
    "from transformers import BertTokenizer\n",
    "from bertopic import BERTopic\n",
    "from sklearn.feature_extraction.text import TfidfVectorizer"
   ]
  },
  {
   "cell_type": "code",
   "execution_count": 8,
   "metadata": {},
   "outputs": [
    {
     "name": "stdout",
     "output_type": "stream",
     "text": [
      "c:\\Users\\tea_s\\OneDrive\\바탕 화면\\2022-11\\Temp\\amazon_review-Bertopic\\amazon_review-Bertopic\n"
     ]
    }
   ],
   "source": [
    "# import os\n",
    "\n",
    "# currentPath = os.getcwd()\n",
    "\n",
    "# print(currentPath)\n",
    "\n",
    "# os.chdir(currentPath+ \"/file\")\n",
    "\n",
    "# files = os.listdir(currentPath)\n"
   ]
  },
  {
   "cell_type": "code",
   "execution_count": 9,
   "metadata": {},
   "outputs": [],
   "source": [
    "#갤럭시 워치 4,5_긍/부정리뷰 \n",
    "\n",
    "gal4_n = pd.read_csv('samsung_watch4_n.csv', encoding='utf-8')\n",
    "gal5_n = pd.read_csv('samsung_watch5_n.csv', encoding='utf-8')\n",
    "gal4_p = pd.read_csv('samsung_watch4_p.csv', encoding='utf-8')\n",
    "gal5_p = pd.read_csv('samsung_watch5_p.csv', encoding='utf-8')\n",
    "\n",
    "gal52_n = pd.read_csv('samsung_watch5(45)_n.csv', encoding='utf-8')\n",
    "gal52_p = pd.read_csv('samsung_watch5(45)_p.csv', encoding='utf-8')\n",
    "gal5pro2_n = pd.read_csv('samsung_watch5(lte)_pro_p.csv', encoding='utf-8')\n",
    "gal5pro2_p = pd.read_csv('samsung_watch5(lte)_pro_n.csv', encoding='utf-8')\n",
    "\n",
    "gal4pro_n = pd.read_csv('samsung_watch4pro_n.csv', encoding='utf-8')\n",
    "gal5pro_n = pd.read_csv('samsung_watch5_pro_n.csv', encoding='utf-8')\n",
    "gal4pro_p = pd.read_csv('samsung_watch4pro_p.csv', encoding='utf-8')\n",
    "gal5pro_p = pd.read_csv('samsung_watch5_pro_p.csv', encoding='utf-8')\n",
    "gal_act1_n = pd.read_csv('samsung_active1_n.csv', encoding='utf-8')\n",
    "gal_act2_n = pd.read_csv('samsung_active2_n.csv', encoding='utf-8')\n",
    "gal_act1_p = pd.read_csv('samsung_active1_p.csv', encoding='utf-8')\n",
    "gal_act2_p = pd.read_csv('samsung_active2_p.csv', encoding='utf-8')\n",
    "\n",
    "\n",
    "gwatch_n = pd.concat([gal4_n, gal5_n,gal52_n])\n",
    "gwatch_p = pd.concat([gal4_p, gal5_p,gal52_p])\n",
    "gwatch_act_n = pd.concat([gal_act1_n,gal_act2_n])\n",
    "gwatch_act_p = pd.concat([gal_act1_p,gal_act2_p])\n",
    "gwatch_pro_n = pd.concat([gal5pro2_n,gal4pro_n,gal5pro_n])\n",
    "gwatch_pro_p = pd.concat([gal5pro2_p,gal4pro_p,gal5pro_p])\n",
    "\n",
    "#갤럭시 제품 전체\n",
    "watch_n_df = pd.concat([gal4_n, gal5_n,gal52_n,gal5pro2_n,gal4pro_n,gal5pro_n,gal_act1_n,gal_act2_n])\n",
    "watch_p_df = pd.concat([gal4_p, gal5_p,gal52_p,gal5pro2_p,gal4pro_p,gal5pro_p,gal_act1_p,gal_act2_p])\n",
    "#갤럭시 제품 전체\n",
    "watch_n_df = watch_n_df.fillna(\" \")\n",
    "watch_p_df = watch_p_df.fillna(\" \")\n",
    "\n",
    "gwatch_n = gwatch_n.fillna(\" \")\n",
    "gwatch_p = gwatch_p.fillna(\" \")\n",
    "gwatch_act_n = gwatch_act_n.fillna(\" \") \n",
    "gwatch_act_p = gwatch_act_p.fillna(\" \")\n",
    "gwatch_pro_n = gwatch_pro_n.fillna(\" \")\n",
    "gwatch_pro_n = gwatch_pro_n.fillna(\" \")\n",
    "\n",
    "#일반 갤럭시\n",
    "review_gn = gwatch_n[\"Review_text\"].tolist()\n",
    "review_gp = gwatch_p[\"Review_text\"].tolist()\n",
    "#갤럭시 워치 프로라인\n",
    "review_gpron = gwatch_pro_n[\"Review_text\"].tolist()\n",
    "review_gprop = gwatch_pro_p[\"Review_text\"].tolist()\n",
    "#갤럭시 워치 보급형라인\n",
    "review_gactn = gwatch_act_n[\"Review_text\"].tolist()\n",
    "review_gactp = gwatch_act_p[\"Review_text\"].tolist()\n",
    "\n",
    "#갤럭시 제품 전체\n",
    "reviews_gn = watch_n_df[\"Review_text\"].tolist()\n",
    "reviews_gp = watch_p_df[\"Review_text\"].tolist()"
   ]
  },
  {
   "cell_type": "code",
   "execution_count": 61,
   "metadata": {},
   "outputs": [],
   "source": [
    "apple6_n1 = pd.read_csv('apple_watch6(1)_n.csv', encoding='latin_1')\n",
    "apple6_p1 = pd.read_csv('apple_watch6(1)_p.csv', encoding='utf-8')\n",
    "apple6_n2 = pd.read_csv('apple_watch6(2)_n.csv', encoding='utf-8')\n",
    "apple6_p2 = pd.read_csv('apple_watch6(2)_p.csv', encoding='utf-8')\n",
    "apple7_n1 = pd.read_csv('apple_watch7(1)_n.csv', encoding='utf-8')\n",
    "apple7_p1 = pd.read_csv('apple_watch7(1)_p.csv', encoding='utf-8')\n",
    "apple7_n2 = pd.read_csv('apple_watch7(2)_n.csv', encoding='utf-8')\n",
    "apple7_p2 = pd.read_csv('apple_watch7(2)_p.csv', encoding='utf-8')\n",
    "apple8_n1 = pd.read_csv('apple_watch8_n.csv', encoding='utf-8')\n",
    "apple8_p1 = pd.read_csv('apple_watch8_p.csv', encoding='utf-8')\n",
    "apple_se_n = pd.read_csv('apple_watch_se1_n.csv', encoding='latin_1')\n",
    "apple_se_p = pd.read_csv('apple_watch_se1_p.csv', encoding='utf-8')\n",
    "apple_se2_n = pd.read_csv('apple_watch_Se2_n.csv', encoding='utf-8')\n",
    "apple_se2_p = pd.read_csv('apple_watch_Se2_p.csv', encoding='utf-8')\n",
    "apple_un = pd.read_csv('apple_watch_ultra_n.csv', encoding='utf-8')\n",
    "apple_up = pd.read_csv('apple_watch_ultra_p.csv', encoding='utf-8')\n",
    "\n",
    "\n",
    "watch_an_df = pd.concat([apple6_n1,apple6_n2,apple7_n1,apple7_n2,apple8_n1,apple_se_n,apple_se2_n,apple_un])\n",
    "watch_ap_df = pd.concat([apple6_p1,apple6_p2,apple7_p1,apple7_p2,apple8_p1,apple_se_p,apple_se2_p,apple_up])\n",
    "\n",
    "watch_an_df = watch_an_df.fillna(\" \")\n",
    "watch_ap_df = watch_ap_df.fillna(\" \")\n",
    "reviews_an = watch_an_df[\"Review_text\"].tolist()\n",
    "reviews_ap = watch_ap_df[\"Review_text\"].tolist()"
   ]
  },
  {
   "cell_type": "code",
   "execution_count": null,
   "metadata": {},
   "outputs": [],
   "source": [
    "xia_mi5 = pd.read_csv('apple_watch7(2)_p.csv', encoding='utf-8')\n",
    "xia = pd.read_csv('apple_watch8_n.csv', encoding='utf-8')\n",
    "apple8_p1 = pd.read_csv('apple_watch8_p.csv', encoding='utf-8')"
   ]
  },
  {
   "cell_type": "code",
   "execution_count": 35,
   "metadata": {},
   "outputs": [],
   "source": [
    "# stop_words = nltk.corpus.stopwords.words(\"english\")\n",
    "# tokenizer = BertTokenizer.from_pretrained('bert-base-uncased')\n",
    "# for i, review in enumerate(reviews):\n",
    "#     review = re.sub(\"[^a-zA-Z0-9]\", \" \", review).lower()\n",
    "#     review = ' '.join([item if item not in stop_words else '' for item in review.split()])\n",
    "#     review = re.sub(\"[\\s]\", \" \", review)\n",
    "#     reviews[i] = review\n",
    "# for review in reviews:\n",
    "#     if 'que' in review.split():\n",
    "#         print(review)"
   ]
  },
  {
   "cell_type": "code",
   "execution_count": null,
   "metadata": {},
   "outputs": [],
   "source": []
  }
 ],
 "metadata": {
  "kernelspec": {
   "display_name": "Python 3",
   "language": "python",
   "name": "python3"
  },
  "language_info": {
   "codemirror_mode": {
    "name": "ipython",
    "version": 3
   },
   "file_extension": ".py",
   "mimetype": "text/x-python",
   "name": "python",
   "nbconvert_exporter": "python",
   "pygments_lexer": "ipython3",
   "version": "3.10.6"
  },
  "vscode": {
   "interpreter": {
    "hash": "c5d8ab4c673445a190d7bfa7fc8ab3989e375ab5b20892e401e28942cf77405d"
   }
  }
 },
 "nbformat": 4,
 "nbformat_minor": 2
}
